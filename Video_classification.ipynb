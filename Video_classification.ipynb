{
 "cells": [
  {
   "cell_type": "code",
   "execution_count": 1,
   "metadata": {},
   "outputs": [
    {
     "name": "stderr",
     "output_type": "stream",
     "text": [
      "Using TensorFlow backend.\n"
     ]
    }
   ],
   "source": [
    "from keras.models import load_model\n",
    "from collections import deque\n",
    "import numpy as np\n",
    "import pickle\n",
    "import cv2"
   ]
  },
  {
   "cell_type": "code",
   "execution_count": 2,
   "metadata": {},
   "outputs": [],
   "source": [
    "model = load_model(r'C:\\Users\\ASUS\\Desktop\\Sports-type classifier\\project-1\\videoclassificationmodel')\n",
    "outputvideo = r\"C:\\Users\\ASUS\\Desktop\\Sports-type classifier\\demo_output.avi\"\n",
    "lb = pickle.loads(open(r\"C:\\Users\\ASUS\\Desktop\\Sports-type classifier\\project-1\\videoclassificationbinarizer.pickle\",\"rb\").read())\n",
    "mean = np.array([123.68, 116.779, 103.939][:1], dtype = \"float32\")\n",
    "queue = deque(maxlen=128)"
   ]
  },
  {
   "cell_type": "code",
   "execution_count": 3,
   "metadata": {},
   "outputs": [
    {
     "name": "stdout",
     "output_type": "stream",
     "text": [
      "Finalizing...\n"
     ]
    }
   ],
   "source": [
    "capture_video = cv2.VideoCapture(r\"C:\\Users\\ASUS\\Desktop\\Sports-type classifier\\demo_video.mp4\")\n",
    "writer = None\n",
    "(Width,Height) = (None,None)\n",
    "\n",
    "while True:\n",
    "    (taken,frame) = capture_video.read()\n",
    "    if not taken:\n",
    "        break\n",
    "    if Width is None or Height is None:\n",
    "        (Width,Height) = frame.shape[:2]\n",
    "    output = frame.copy()\n",
    "    frame = cv2.cvtColor(frame, cv2.COLOR_BGR2RGB)\n",
    "    frame = cv2.resize(frame, (244,244,)).astype(\"float32\")\n",
    "    frame -= mean\n",
    "    preds = model.predict(np.expand_dims(frame, axis=0))[0]\n",
    "    queue.append(preds)\n",
    "    results = np.array(queue).mean(axis=0)\n",
    "    i = np.argmax(results)\n",
    "    label = lb.classes_[i]\n",
    "    text = \"They are playing: {}\".format(label)\n",
    "    cv2.putText(output,text,(45,60), cv2.FONT_HERSHEY_SIMPLEX,1.25,(255,0,0),5)\n",
    "    \n",
    "    if writer is None:\n",
    "        fourcc = cv2.VideoWriter_fourcc(*\"MJPG\")\n",
    "        writer = cv2.VideoWriter(\"outputvideo\", fourcc, 30, (Width,Height), True)\n",
    "    writer.write(output)\n",
    "    cv2.imshow(\"In progress\",output)\n",
    "    key = cv2.waitKey(1) & 0xFF\n",
    "        \n",
    "    if key == ord(\"q\"):\n",
    "        break\n",
    "        \n",
    "print(\"Finalizing...\")\n",
    "writer.release()\n",
    "capture_video.release()"
   ]
  },
  {
   "cell_type": "code",
   "execution_count": null,
   "metadata": {},
   "outputs": [],
   "source": []
  },
  {
   "cell_type": "code",
   "execution_count": null,
   "metadata": {},
   "outputs": [],
   "source": []
  },
  {
   "cell_type": "code",
   "execution_count": null,
   "metadata": {},
   "outputs": [],
   "source": []
  }
 ],
 "metadata": {
  "kernelspec": {
   "display_name": "Python 3",
   "language": "python",
   "name": "python3"
  },
  "language_info": {
   "codemirror_mode": {
    "name": "ipython",
    "version": 3
   },
   "file_extension": ".py",
   "mimetype": "text/x-python",
   "name": "python",
   "nbconvert_exporter": "python",
   "pygments_lexer": "ipython3",
   "version": "3.7.1"
  }
 },
 "nbformat": 4,
 "nbformat_minor": 2
}
