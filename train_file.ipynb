{
 "cells": [
  {
   "cell_type": "code",
   "execution_count": 1,
   "metadata": {},
   "outputs": [],
   "source": [
    "import os\n",
    "import cv2\n",
    "import numpy as np\n",
    "from imutils import paths"
   ]
  },
  {
   "cell_type": "code",
   "execution_count": 2,
   "metadata": {},
   "outputs": [],
   "source": [
    "from sklearn.preprocessing import LabelBinarizer"
   ]
  },
  {
   "cell_type": "code",
   "execution_count": 3,
   "metadata": {},
   "outputs": [],
   "source": [
    "from sklearn.model_selection import train_test_split"
   ]
  },
  {
   "cell_type": "code",
   "execution_count": 4,
   "metadata": {},
   "outputs": [
    {
     "name": "stderr",
     "output_type": "stream",
     "text": [
      "Using TensorFlow backend.\n"
     ]
    }
   ],
   "source": [
    "from keras.preprocessing.image import ImageDataGenerator"
   ]
  },
  {
   "cell_type": "code",
   "execution_count": 5,
   "metadata": {},
   "outputs": [],
   "source": [
    "datapath = r\"C:\\Users\\ASUS\\Desktop\\Sports-type classifier\\data\"\n",
    "outputmodel = r\"C:\\Users\\ASUS\\Desktop\\Sports-type classifier\\project-1\\videoclassificationmodel\"\n",
    "outputlabelbinarizer = r\"C:\\Users\\ASUS\\Desktop\\Sports-type classifier\\project-1\\videoclassificationbinarizer\""
   ]
  },
  {
   "cell_type": "code",
   "execution_count": 6,
   "metadata": {},
   "outputs": [
    {
     "name": "stdout",
     "output_type": "stream",
     "text": [
      "Images is being loaded....\n"
     ]
    }
   ],
   "source": [
    "Sports_Labels = set(['boxing', 'swimming', 'table_tennis'])\n",
    "print(\"Images is being loaded....\")\n",
    "pathToImages = list(paths.list_images(datapath))\n",
    "data = []\n",
    "labels = []\n",
    "\n",
    "for images in pathToImages:\n",
    "    label = images.split(os.path.sep)[-2]\n",
    "    if label not in Sports_Labels:\n",
    "        continue\n",
    "    image = cv2.imread(images)\n",
    "    image = cv2.cvtColor(image, cv2.COLOR_BGR2RGB)\n",
    "    image = cv2.resize(image, (244,244))\n",
    "    data.append(image)\n",
    "    labels.append(label)\n",
    "    "
   ]
  },
  {
   "cell_type": "code",
   "execution_count": 7,
   "metadata": {},
   "outputs": [],
   "source": [
    "data = np.array(data)\n",
    "labels = np.array(labels)\n",
    "\n",
    "#hot encoded values as 0,1,2\n",
    "lb = LabelBinarizer()\n",
    "labels = lb.fit_transform(labels)"
   ]
  },
  {
   "cell_type": "code",
   "execution_count": 8,
   "metadata": {},
   "outputs": [],
   "source": [
    "(X_train, X_test, Y_train, Y_test) = train_test_split(data,labels,test_size = 0.25, stratify = labels, random_state = 1)"
   ]
  },
  {
   "cell_type": "code",
   "execution_count": 9,
   "metadata": {},
   "outputs": [],
   "source": [
    "training_augmentation = ImageDataGenerator(\n",
    "    rotation_range = 30,\n",
    "    zoom_range = 0.15,\n",
    "    width_shift_range = 0.2,\n",
    "    height_shift_range = 0.2,\n",
    "    shear_range = 0.15,\n",
    "    horizontal_flip = True,\n",
    "    fill_mode = \"nearest\"\n",
    ")\n",
    "\n",
    "validation_augmentation = ImageDataGenerator()\n",
    "mean = np.array([123.68, 116.779, 103.939], dtype = 'float32')\n",
    "training_augmentation.mean = mean\n",
    "validation_augmentation.mean = mean"
   ]
  },
  {
   "cell_type": "code",
   "execution_count": 10,
   "metadata": {},
   "outputs": [],
   "source": [
    "from keras.layers import Input\n",
    "from keras.layers.pooling import AveragePooling2D\n",
    "from keras.applications import ResNet50\n",
    "from keras.layers.core import Flatten\n",
    "from keras.layers.core import Dense \n",
    "from keras.layers.core import Dropout\n",
    "from keras.models import Model"
   ]
  },
  {
   "cell_type": "code",
   "execution_count": 11,
   "metadata": {},
   "outputs": [
    {
     "name": "stderr",
     "output_type": "stream",
     "text": [
      "C:\\Users\\ASUS\\Anaconda3\\lib\\site-packages\\keras_applications\\resnet50.py:265: UserWarning: The output shape of `ResNet50(include_top=False)` has been changed since Keras 2.2.0.\n",
      "  warnings.warn('The output shape of `ResNet50(include_top=False)` '\n"
     ]
    }
   ],
   "source": [
    "baseModel = ResNet50(weights='imagenet',include_top = False, input_tensor = Input(shape = (244, 244, 3)))\n",
    "headModel = baseModel.output\n",
    "headModel = AveragePooling2D(pool_size = (7,7))(headModel)\n",
    "headModel = Flatten(name='flatten')(headModel)\n",
    "headModel = Dense(512,activation = 'relu')(headModel)\n",
    "headModel = Dropout(0.5)(headModel)\n",
    "headModel = Dense(len(lb.classes_), activation = \"softmax\")(headModel)\n",
    "\n",
    "model = Model(inputs = baseModel.input, outputs = headModel)\n",
    "\n",
    "for basemodelLayers in baseModel.layers:\n",
    "    basemodelLayers.trainable = False"
   ]
  },
  {
   "cell_type": "code",
   "execution_count": 12,
   "metadata": {},
   "outputs": [],
   "source": [
    "epoch = 25"
   ]
  },
  {
   "cell_type": "code",
   "execution_count": 13,
   "metadata": {},
   "outputs": [],
   "source": [
    "from keras.optimizers import SGD"
   ]
  },
  {
   "cell_type": "code",
   "execution_count": 14,
   "metadata": {},
   "outputs": [],
   "source": [
    "opt = SGD(lr = 0.0001, momentum = 0.9, decay = 1e-4/epoch)"
   ]
  },
  {
   "cell_type": "code",
   "execution_count": 15,
   "metadata": {},
   "outputs": [],
   "source": [
    "model.compile(loss = \"categorical_crossentropy\",\n",
    "             optimizer = opt,\n",
    "             metrics = ['accuracy'])"
   ]
  },
  {
   "cell_type": "code",
   "execution_count": 16,
   "metadata": {},
   "outputs": [
    {
     "name": "stdout",
     "output_type": "stream",
     "text": [
      "Epoch 1/25\n",
      "49/49 [==============================] - 511s 10s/step - loss: 1.3144 - accuracy: 0.3878 - val_loss: 0.8915 - val_accuracy: 0.5801\n",
      "Epoch 2/25\n",
      "49/49 [==============================] - 463s 9s/step - loss: 0.8685 - accuracy: 0.6194 - val_loss: 0.6993 - val_accuracy: 0.7617\n",
      "Epoch 3/25\n",
      "49/49 [==============================] - 460s 9s/step - loss: 0.6581 - accuracy: 0.7189 - val_loss: 0.4851 - val_accuracy: 0.8045\n",
      "Epoch 4/25\n",
      "49/49 [==============================] - 461s 9s/step - loss: 0.5285 - accuracy: 0.7768 - val_loss: 0.5460 - val_accuracy: 0.8513\n",
      "Epoch 5/25\n",
      "49/49 [==============================] - 456s 9s/step - loss: 0.4654 - accuracy: 0.8256 - val_loss: 0.3163 - val_accuracy: 0.8635\n",
      "Epoch 6/25\n",
      "49/49 [==============================] - 462s 9s/step - loss: 0.3968 - accuracy: 0.8508 - val_loss: 0.4671 - val_accuracy: 0.9002\n",
      "Epoch 7/25\n",
      "49/49 [==============================] - 447s 9s/step - loss: 0.3994 - accuracy: 0.8606 - val_loss: 0.5225 - val_accuracy: 0.8737\n",
      "Epoch 8/25\n",
      "49/49 [==============================] - 458s 9s/step - loss: 0.3530 - accuracy: 0.8829 - val_loss: 0.4597 - val_accuracy: 0.8859\n",
      "Epoch 9/25\n",
      "49/49 [==============================] - 513s 10s/step - loss: 0.3250 - accuracy: 0.8835 - val_loss: 0.3774 - val_accuracy: 0.9043\n",
      "Epoch 10/25\n",
      "49/49 [==============================] - 456s 9s/step - loss: 0.3206 - accuracy: 0.8822 - val_loss: 0.3668 - val_accuracy: 0.9063\n",
      "Epoch 11/25\n",
      "49/49 [==============================] - 458s 9s/step - loss: 0.3098 - accuracy: 0.8946 - val_loss: 0.2079 - val_accuracy: 0.8859\n",
      "Epoch 12/25\n",
      "49/49 [==============================] - 500s 10s/step - loss: 0.2977 - accuracy: 0.9018 - val_loss: 0.4008 - val_accuracy: 0.8819\n",
      "Epoch 13/25\n",
      "49/49 [==============================] - 575s 12s/step - loss: 0.2696 - accuracy: 0.9037 - val_loss: 0.2569 - val_accuracy: 0.8961\n",
      "Epoch 14/25\n",
      "49/49 [==============================] - 557s 11s/step - loss: 0.2898 - accuracy: 0.8964 - val_loss: 0.4582 - val_accuracy: 0.8961\n",
      "Epoch 15/25\n",
      "49/49 [==============================] - 568s 12s/step - loss: 0.3194 - accuracy: 0.9063 - val_loss: 0.4218 - val_accuracy: 0.8778\n",
      "Epoch 16/25\n",
      "49/49 [==============================] - 536s 11s/step - loss: 0.2443 - accuracy: 0.9141 - val_loss: 0.3992 - val_accuracy: 0.8737\n",
      "Epoch 17/25\n",
      "49/49 [==============================] - 449s 9s/step - loss: 0.2367 - accuracy: 0.9193 - val_loss: 0.2569 - val_accuracy: 0.8982\n",
      "Epoch 18/25\n",
      "49/49 [==============================] - 476s 10s/step - loss: 0.2868 - accuracy: 0.9063 - val_loss: 0.2806 - val_accuracy: 0.9023\n",
      "Epoch 19/25\n",
      "49/49 [==============================] - 461s 9s/step - loss: 0.2140 - accuracy: 0.9273 - val_loss: 0.3189 - val_accuracy: 0.8982\n",
      "Epoch 20/25\n",
      "49/49 [==============================] - 454s 9s/step - loss: 0.2258 - accuracy: 0.9283 - val_loss: 0.1955 - val_accuracy: 0.8921\n",
      "Epoch 21/25\n",
      "49/49 [==============================] - 566s 12s/step - loss: 0.2333 - accuracy: 0.9265 - val_loss: 0.1414 - val_accuracy: 0.9002\n",
      "Epoch 22/25\n",
      "49/49 [==============================] - 569s 12s/step - loss: 0.2245 - accuracy: 0.9200 - val_loss: 0.1698 - val_accuracy: 0.9002\n",
      "Epoch 23/25\n",
      "49/49 [==============================] - 565s 12s/step - loss: 0.2109 - accuracy: 0.9291 - val_loss: 0.3182 - val_accuracy: 0.9145\n",
      "Epoch 24/25\n",
      "49/49 [==============================] - 573s 12s/step - loss: 0.2064 - accuracy: 0.9286 - val_loss: 0.0795 - val_accuracy: 0.9063\n",
      "Epoch 25/25\n",
      "49/49 [==============================] - 564s 12s/step - loss: 0.1948 - accuracy: 0.9401 - val_loss: 0.1441 - val_accuracy: 0.9022\n"
     ]
    }
   ],
   "source": [
    "history = model.fit_generator(training_augmentation.flow(X_train, Y_train, batch_size = 32),\n",
    "                             steps_per_epoch = len(X_train) // 32,\n",
    "                             validation_data = validation_augmentation.flow(X_test, Y_test),\n",
    "                             validation_steps = len(X_test) // 32,\n",
    "                             epochs = epoch)"
   ]
  },
  {
   "cell_type": "code",
   "execution_count": 17,
   "metadata": {},
   "outputs": [],
   "source": [
    "import pickle"
   ]
  },
  {
   "cell_type": "code",
   "execution_count": 18,
   "metadata": {},
   "outputs": [],
   "source": [
    "model.save(outputmodel)\n",
    "lbinarizer = open(r\"C:\\Users\\ASUS\\Desktop\\Sports-type classifier\\project-1\\videoclassificationbinarizer.pickle\",\"wb\")\n",
    "lbinarizer.write(pickle.dumps(lb))\n",
    "lbinarizer.close()"
   ]
  }
 ],
 "metadata": {
  "kernelspec": {
   "display_name": "Python 3",
   "language": "python",
   "name": "python3"
  },
  "language_info": {
   "codemirror_mode": {
    "name": "ipython",
    "version": 3
   },
   "file_extension": ".py",
   "mimetype": "text/x-python",
   "name": "python",
   "nbconvert_exporter": "python",
   "pygments_lexer": "ipython3",
   "version": "3.7.1"
  }
 },
 "nbformat": 4,
 "nbformat_minor": 4
}
